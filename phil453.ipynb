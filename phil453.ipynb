{
 "cells": [
  {
   "attachments": {},
   "cell_type": "markdown",
   "metadata": {},
   "source": [
    "# PHIL 453 Ancient Philosophy of Nature"
   ]
  },
  {
   "attachments": {},
   "cell_type": "markdown",
   "metadata": {},
   "source": [
    "---"
   ]
  },
  {
   "attachments": {},
   "cell_type": "markdown",
   "metadata": {},
   "source": [
    "Presocratic\n",
    "* Kolak & Thomson, eds. _The Longman Standard History of Ancient Philosophy_.\n",
    "* _Readings in Ancient Greek Philosophy: From Thales to Aristotle_. 5th Ed. Hackett.\n",
    "\n",
    "Aristotle\n",
    "* Sachs, Joe. _Metaphysics_.\n",
    "* Sachs, Joe. _On the Soul_.\n",
    "* Sachs, Joe. _Physics_.\n",
    "\n",
    "Plato\n",
    "* _Timaeus_."
   ]
  },
  {
   "attachments": {},
   "cell_type": "markdown",
   "metadata": {},
   "source": [
    "---"
   ]
  },
  {
   "attachments": {},
   "cell_type": "markdown",
   "metadata": {},
   "source": [
    "\"Of everything human beings face, the question of nature has the deepest roots and the widest consequences.\"\n",
    "* of everything we are up against\n",
    "* what is nature? what is this nature that we are up against?\n",
    "* this is the final/last/ultimate question? why? because it implicates mortality and death?\n",
    "\n",
    "\"How things stand with nature, including what nature is for us and what we can contribute to it, is the fundamental challenge facing our civilization.\"\n",
    "* what role does nature play in our lives?\n",
    "* how is the individual related to nature? how is civilization related to nature?\n",
    "\n",
    "\"It has always been this way: the first father of our civilization, Gilgamesh, renegotiated his relationship with nature.\"\n",
    "\n",
    "\"In the first unit of this course, we examine Gilgamesh's first attempts to take his mortal fate into his own hands; the ecological meaning of the story of the flood; and why he ends by devoting his city to nature.\"\n",
    "\n",
    "\"We study the Homeric epics, too, which articulate the problem of individual mortality and the meaning of an individual life in the context of a natural world that prevails around it.\"\n",
    "\n",
    "\"But it has often been said that the Greeks discovered the study of nature (physis).\"\n",
    "\n",
    "\"Nature as a whole is an unusual object of inquiry and names a particular way of experiencing phenomena.\"\n",
    "\n",
    "\"[Nature's] discovery coincided with the Greek birth of philosophical thinking.\"\n",
    "\n",
    "\"How and why did Nature emerge as an all-pervasive concern, and how did the Greeks shape how we think nature?\"\n",
    "\n",
    "\"The second unit in this course explores these questions, concentrating on Heraclitus, the Atomists, and Plato's Timaeus.\"\n",
    "\n",
    "\"We address, among other things, the idea that events are governed by non intentional principles; that there is a single fundamental principle of all phenomena; the concept of dynamic structure; that nothning can be truly created or destroyed; that change disperses being; and the concept of atomic composition.\"\n",
    "\n",
    "\"In the final unit we turn to study Greece's paradigmatic philosopher of nature, Aristotle.\"\n",
    "\n",
    "\"Here we examine his watershed arguments that materiality exists; the distinction between nature and artifice; the sort of reality that belongs to automatic processes; the problem of emergence; and the argument that events occur because being is structured, and therefore oriented, by soul.\"\n",
    "\n",
    "\"These thinkers blaze paths for thinking nature for our civilization, and by retreading these paths we can discover ways of experiencing natural phenomena that were left begind and set aside.\""
   ]
  },
  {
   "attachments": {},
   "cell_type": "markdown",
   "metadata": {},
   "source": [
    "---"
   ]
  },
  {
   "attachments": {},
   "cell_type": "markdown",
   "metadata": {},
   "source": [
    "## Texts"
   ]
  },
  {
   "attachments": {},
   "cell_type": "markdown",
   "metadata": {},
   "source": [
    "* Collingwood, Robin George. _On the Idea of Nature_.\n",
    "* Ferry. _Gilgamesh_.\n",
    "* Klein, Jacob. (1976). _Greek Mathematical Thought and the Origin of Algebra_. Dover.\n",
    "* MacBeth. (). _Realizing Reason: A Narrative of Truth and Knowing_. OUP.\n",
    "* Moore, Christopher. (2021). _Calling Philosophers Names: On the Origin of a Discipline_. Princeton University Press.\n",
    "* Moore, Christopher. (2018). _Socrates and Self-Knowledge_. Cambridge University Press.\n",
    "* Nietzsche on memory and forgetting\n",
    "\n",
    "mentioned\n",
    "* Brill, Sara. (2020). _Aristotle on the Concept of Shared Life_. OUP.\n",
    "* Graeber, David & David Wengrow. (2023). _The Dawn of Everything: A New History of Humanity_."
   ]
  }
 ],
 "metadata": {
  "kernelspec": {
   "display_name": "temp",
   "language": "python",
   "name": "python3"
  },
  "language_info": {
   "name": "python",
   "version": "3.10.8"
  },
  "orig_nbformat": 4,
  "vscode": {
   "interpreter": {
    "hash": "8f0d4d45b15790c9a43c559f124c7ba0862b8436c903997b2987a8faf626308c"
   }
  }
 },
 "nbformat": 4,
 "nbformat_minor": 2
}
