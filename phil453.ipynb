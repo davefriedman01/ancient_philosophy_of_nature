{
 "cells": [
  {
   "attachments": {},
   "cell_type": "markdown",
   "metadata": {},
   "source": [
    "# PHIL 453 Ancient Philosophy of Nature"
   ]
  },
  {
   "attachments": {},
   "cell_type": "markdown",
   "metadata": {},
   "source": [
    "---"
   ]
  },
  {
   "attachments": {},
   "cell_type": "markdown",
   "metadata": {},
   "source": [
    "Homer\n",
    "* perspective taking on the body in particular\n",
    "* a rational perspective on the body and its processes\n",
    "* the beginnings of a scientific/medical approach to the body\n",
    "* situated within a morally important context: the meaning and value of an individual life in part due to political forces\n",
    "* a norm for the way Greeks approach bodies\n",
    "* opens up a rheotical space to this medical-scientific appraoch to the body and to the natural world in general\n",
    "* what is the broader ethical importance attached to this development: the problem of the individual life and mortality\n",
    "* be aware of other aspects, implications, connotations of the way that Greeks develop this concept to nature and the rational approach to nature\n",
    "* the stylistic aspect of Homer is capacious, accomodating, characterized by the phrase \"everything is illuminated\"\n",
    "* the world is accessible to description; contrary to the Abrahamic\n",
    "* with Homer, the world is plural; different gods with different domains who interact with one another; there's no mystery about their relationships; we should be able to describe it; the natural world is still heterogeneous\n",
    "* the Homeric, Hesiodic worlds: each god has its domain; the world is heterogeneous; nature is not all the same, it's governed by different principles\n",
    "\n",
    "the birth of philosophy is associated with a shift in the way we vew nature, the natural world\n",
    "\n",
    "Thales: a homogeneous world; a philosophical concept of ?\n",
    "* there's something about nature that is the same everywhere\n",
    "* the birth of philosophy\n",
    "\n",
    "ways of understanding the gods\n",
    "* a paractical approach: ritual practice, propitiated by offerings\n",
    "* topological understanding of the gods: a certain city that each god is in charge of, each god has a domain, the people of that city are accompanied by that god\n",
    "* the main gods involved in Iliad and Odyssey\n",
    "* how \"Earthy\" are the gods?\n",
    "\n",
    "Achilles and the river\n",
    "* the river wins, Achilles technology fails him\n",
    "* Hera, Apollo, Hephaestus; the automata burn the land, the river evaporates, retreats\n",
    "* highlights the relationship between the might of a human being and the flow and power of the natural world\n",
    "* highlights the weirdness of the relationship between war and natural cycles\n",
    "* difference between Olympian gods vs the \"nature spirits\"\n",
    "* place based spirituality of the ancient Greek world\n",
    "* in Greek mythology, there's a point in time when nature exists and Olympian gods don't exist yet\n",
    "* what is the relationship between Olympian gods and the nature spirits\n",
    "* look deeply at Hesiod and the earlier versions of the pantheon; look across different cultures, islands, cities\n",
    "* the generations of the gods, how is it to be interpreted\n",
    "* a different belief system? if there was a transition, there would have to be a story about what came before\n",
    "* the dominion of the olympian gods is never going to be total\n",
    "\n",
    "titans vs olympians: natural vs technological?\n",
    "* time works in such a way that creatures are born and then they are eaten\n",
    "* presented as a monstrous thing and then subverted\n",
    "\n",
    "fate is above the gods\n",
    "* phenomenologically, fate is of experiencing what happens as opposed to what could've happened\n",
    "* different possibilities are ruled out\n",
    "* what sort of figure is fate? an individual that doesn't seem to be involved in relationships with others, no negotation\n",
    "* fate is a certain mode of experience that affects the meaning of the world around us, in our normal experience\n",
    "* the idea of necessity, fundamental concept in Greek philosophy that becomes important in the scientific tradition\n",
    "* the idea of fate could be a psychological response to atrocity; need to make meaningful suffering\n",
    "\n",
    "philosophically problematic...\n",
    "* we always have a local exerience in light of a holistic experience\n",
    "\n",
    "what do the gods do for us? what are they?\n",
    "* abrahamic tradition: there is a covenant, there is a deal between the people and god\n",
    "* Greeks: transactional relationship, heterogeny, the play between the different gods; we undergo the gods, a source of human suffering and woe\n",
    "\n",
    "do the gods all obey the same laws? homogeneity of the natural world, the gods can't do otherwise at a certain point; what is it that constrains them\n",
    "\n",
    "were the presocratic philosophers atheistic?\n",
    "\n",
    "transition from heterogeneity to homogeneity\n",
    "* strengthand weaknesses and adaptability of a hetergeneous nature embodied in the pantheon\n",
    "* strengths and weaknesses that come along with a homogeneous worldview from an explanatory worldview\n",
    "\n",
    "Apollo's relationship to fate; the oracle of delphi\n",
    "* the greek gods utility perhaps is their better understanding of fate than humans\n",
    "* the gods are laws unto themselves; has a certain relationship with necessity\n",
    "\n",
    "gods as law-like patterns\n",
    "* phenomena that we don't have good ways of explaining\n",
    "* the way that we psychologize sports is woefully innacurate\n",
    "* a meta, emergent pattern of relationship that we are not really able to describe\n",
    "* understand phenomena via the gods; this is how gods are related to natural phenomena\n",
    "\n",
    "characterizing the transition from Homer/Hesiod to the birth of philosophy\n",
    "* the discovery of the phenomeon of nature as a phenomenon worthy of study\n",
    "  * to be interested in nature is to be interested in the sources of all things, homogenously; nature is the source of allthings; it explains what happens; it's the internal character of all things; it explains the regularity of events; all things happen for reasons and these reasons are associated with necessity as opposed to purposiveness, character; things of nature are implacable, inpersuadable; there's a departure from the polytheistic world bc the structure of the world has changed, no longer governs the worlds intelligibility, the gods may still be there but are no longer the fundamental explanatory structure of things\n",
    "* different methods from the thinking that goes on in myth telling\n",
    "  * sociological explanation: the fragmentation of the Greek world, resumed seafaring, trade, developing unique political structures, each island has its own consitutition, form of debate; laws governing relations of trade; as a result, there is a political discourse that is grappling with the variety of constitutions based on persuasion; they knew and criticised each other\n",
    "  * when Thales and Anaximander emerge, they knew each others' books and are criticising each other on certain grounds\n",
    "\n",
    "when you're making an argument that the other person is wrong, you have to provide a basis for that, you have to give reasons for that, that are philosophically interesting; figuring out the structure of argumentation, how to use evidence to resist each other and establish their own points; the logical structure of argumentation; the emergence of the phenomenon of nature and the universality, homogeneity of the natural world; these things together are the foundation of early philosophy\n",
    "\n",
    "philosophy is a continuation of myth; a desire to coherentize\n",
    "\n",
    "intellectual paradigms don't fail radically, it's much subtler\n",
    "\n",
    "Parmenides is writing mythology?\n",
    "\n",
    "hermeneutic situation, we need intellectual imagination"
   ]
  },
  {
   "attachments": {},
   "cell_type": "markdown",
   "metadata": {},
   "source": [
    "## 02/07 Tuesday - Mortality and War in the Natural World"
   ]
  },
  {
   "attachments": {},
   "cell_type": "markdown",
   "metadata": {},
   "source": [
    "* XXI. 184-390 (Fighting the river)\n",
    "* XXII. (Achilles fights Hector)\n",
    "* XXIV. 468-595 (Priam visits Achilles to get Hector's body)\n",
    "\n",
    "1. What did Achilles do to the river god?\n",
    "2. What are the phenomena that the fight between Achilles and the river describes?\n",
    "3. Identify all the similes in the battle between Achilles and Hector: how are they related to each other? Similes seem to refer to a parallel world: what is this world like? What does the simile accomplish by putting us in such a detailed alternate world in the midst of the action?\n",
    "4. What is the role of the gods in the action? What about them leads people to honor them? Are the gods good?\n",
    "5. How does the imagery link both men's deaths to one another?\n",
    "6. What agreement does Hector seek with Achilles, and why does Achilles refuse? Is this a healthy soul? A soul with natural passions?\n",
    "7. What moves Achilles about Priam's speech begging to retrieve Hector's body? Why does this work?"
   ]
  },
  {
   "attachments": {},
   "cell_type": "markdown",
   "metadata": {},
   "source": [
    "## Lust for glory and the problem of death"
   ]
  },
  {
   "attachments": {},
   "cell_type": "markdown",
   "metadata": {},
   "source": [
    "* I.1-8 Opening\n",
    "* IX.410-420 Achilles' fate\n",
    "* XII.290-333 Sarpedon at the gates\n",
    "* XIII.635-659 No satisfaction in war\n",
    "* XVIII.368-616 Creation of the shield\n",
    "\n",
    "1. How is human death presented?\n",
    "2. What is mortality like? Why is it a problem?\n",
    "3. Is glory presented as good? As an adequate solution to the problem of mortality?\n",
    "4. What is the place of war in the cosmos? Is it good?\n",
    "5. What must we assume (or what must be the case) for mortality to be like this (for it to be a problem)?"
   ]
  },
  {
   "attachments": {},
   "cell_type": "markdown",
   "metadata": {},
   "source": [
    "* Question of death in the Iliad\n",
    "* stylistic ways of Homer\n",
    "\n",
    "Sarah Brill, Aristotle on shared life\n",
    "* human social relationships, political community are categorically different from animal relationships\n",
    "* Aristotle: humans are political animals\n",
    "* emphasizes continuity instead of disjunction\n",
    "* bios vs zoe\n",
    "\n",
    "reincorporating humans back into the natural\n",
    "* reductive way: we are trying to survive and reproduce\n",
    "* elevate nature, nature reaches up and includes human civilization\n",
    "\n",
    "\n",
    "\n",
    "Would the kind of political discussion and dialogue have existed during this time? Probably not\n",
    "* characterizes the political discussions\n",
    "\n",
    "shifts in climate, drove the sea peoples out to the east\n",
    "\n",
    "rapid downfall of civilizations, more intensive agriculture, owners of the homestead became politically relevant/important\n",
    "\n",
    "renegotiate relationships, emphasis on individual relationships, persuasion instead of chain of command\n",
    "\n",
    "PERSUASION, INDIVIDUALITY\n",
    "\n",
    "Homer's concept of our relation to death\n",
    "\n",
    "the very style of description, the very way it's narrated indicates beliefs about rationality in the world\n",
    "\n",
    "Odysseus scar, everything is illuminated in the Iliad\n",
    "\n",
    "the level of description and detail contrasts with, say, the bible\n",
    "\n",
    "indicate ideas about what the world is like\n",
    "* Greek case: everything is illuminated, describe all the history at any given moment\n",
    "* biblical case: certain parts that are extremely important, others that are in the darkness; mystery is the fundamental characteristic of our relationship to the world\n",
    "\n",
    "two intellectual traditions\n",
    "* Athens: the world is articulated, describable; the things that are meaningful are explainable; rational, articulatable\n",
    "* Jerusalem: the meaningfulness of the world is anchored in God, which is beyond us; it's not something we can articulate; everything is inward, we can't hear or see them; meaningful things take place via revelation, spiritualism\n",
    "\n",
    "the description of all things doesn't necessarily give us the depth of all things\n",
    "\n",
    "anger (menin): wrath, rage that transcends our normal human relationships (has a divine power to it)\n",
    "\n",
    "other words for anger are related to the human body\n",
    "\n",
    "Achilles wrath transcends the normal economy of relationships in war\n",
    "\n",
    "men go to war for honor, people in battle are seeking honor/glory/respect/admiration\n",
    "\n",
    "it's an economy; glory is physical, tangible thing\n",
    "\n",
    "Achilles rejects this framework for honor\n",
    "\n",
    "Achilles wrath' extends beyond the economy of glory\n",
    "\n",
    "mourning is the way society stabilizes war, processes the dead\n",
    "\n",
    "in rejecting the economy of honor, Achilles is rejecting the community; goes well beyond the desire to be respected\n",
    "\n",
    "Aristotle: he who is a law unto himself is either a beast or a god\n",
    "\n",
    "beyond the symbolic system that manages death\n",
    "\n",
    "some symbol (of remembrance?) to reincorporate the dead\n",
    "\n",
    "how does Homer deal with the death of people?\n",
    "\n",
    "what is the underworld like?\n",
    "\n",
    "death is horrible in the Greek worldview: murky, dusty, subterranean world; echoes, shadows\n",
    "\n",
    "house of Hades: the unseen place\n",
    "\n",
    "the dead have to be fed with the blood of living things to gain something back of vitality\n",
    "\n",
    "there is forgetfulness\n",
    "\n",
    "the dead are tied to the world, but helpless to influence the world\n",
    "\n",
    "tied to the memory of the living, they need a ceremony that allows them to leave; those who don't get that are trapped\n",
    "\n",
    "Theogones of Megara? best for mortal beings is never to have been born at all\n",
    "\n",
    "death is a problem\n",
    "\n",
    "the Greeks faced it in a frank way, both in terms of its connection with the living (they have to be mourned)\n",
    "* if death sucks so badly, then dying in battle is a problem\n",
    "\n",
    "in nature, there is satiety in everything\n",
    "\n",
    "phenomenology\n",
    "* lived body vs corpsed body\n",
    "\n",
    "Homer is contextualizing war in the natural world, how unnatural and strange war is by describing the gore, the viscera\n",
    "\n",
    "highlighting the things that drive us to war"
   ]
  },
  {
   "attachments": {},
   "cell_type": "markdown",
   "metadata": {},
   "source": [
    "motifs\n",
    "* fate\n",
    "* glory\n",
    "* pride\n",
    "* wrath\n",
    "\n",
    "Terms\n",
    "* [Dactylic Hexameter](https://en.wikipedia.org/wiki/Dactylic_hexameter)\n",
    "* [Epic Cycle](https://en.wikipedia.org/wiki/Epic_Cycle)\n",
    "* [Homer](https://en.wikipedia.org/wiki/Homer)\n",
    "* [Homeric Greek](https://en.wikipedia.org/wiki/Homeric_Greek)\n",
    "* [Iliad](https://en.wikipedia.org/wiki/Iliad)\n",
    "* [Rhapsode](https://en.wikipedia.org/wiki/Rhapsode)"
   ]
  },
  {
   "attachments": {},
   "cell_type": "markdown",
   "metadata": {},
   "source": [
    "---"
   ]
  },
  {
   "attachments": {},
   "cell_type": "markdown",
   "metadata": {},
   "source": [
    "## Class Notes"
   ]
  },
  {
   "attachments": {},
   "cell_type": "markdown",
   "metadata": {},
   "source": [
    "### 02/02 Thursday"
   ]
  },
  {
   "attachments": {},
   "cell_type": "markdown",
   "metadata": {},
   "source": [
    "1. Is human community/civilization natural or unnatural?\n",
    "  * Both, born out of the natural and extend the natural. The unnatural is just a kind of natural\n",
    "2. Is nature good? Are we at home in it? Is it bad? Is it something that threatens us? Is it neutral?\n",
    "  * Nature as nature is neither good or bad. We aren't exactly at home in Nature. We are in dialogue/dialectic with nature. Nature is like our partner.\n",
    "3. Does civilization express or distort natural human desires?\n",
    "  * It distorts original desires, expresses and extends many other kinds of desires\n",
    "4. Are humans natural or unnatural? Explain.\n",
    "  * Humans are natural in the first place. But we have the capacity to challenge nature. We've been successful in our challenge. It is still an open question\n",
    "5. Are human civilization and nature compatible or in conflict?\n",
    "  * We are compatible by necessity to a certain extent. We are certainly in conflict\n",
    "\n",
    "Has my view changed since reading Gilgamesh?\n",
    "To what extent do I differ from partners?\n",
    "\n",
    "Iliad\n",
    "* The Dawn of Everything (book) (anthropology/archaeology)\n",
    "* Homer is one of the fathers of philosophical thinking\n",
    "* rationality\n",
    "* ecological issue that shapes the period\n",
    "* the rise of concepts of individuality\n",
    "* social, political, historical reasons for interest in individuality\n",
    "* centralization of the system can make it more vulnerable\n",
    "\n",
    "Auerbach's first essay of varieties of myth\n",
    "* Odysseus Scar: a story contains and implies a worldview, not just in terms of the content but in terms of how the story is told\n",
    "* a worldview is a belief system in which the world is parted out, splt up, the meaning of action, our place in time, how much we can know\n",
    "* contrast Homer's form of storytelling vs biblical (Abraham and Isaac)\n",
    "* style of discourse expresses rationality of the cosmos: Homer describes the encounter between Odysseus and his nurse caretaker\n",
    "* Odysseus wants to keep his identity secret until he springs a trap on them; the nurse discovers Odysseus and he wants to shut her up so that his identity isn't revealed\n",
    "* 70 lines to describe the story of how he got the scar, we become immersed in that other context, lose the tension of the moment\n",
    "* Homer does not care about maintaining the tension of the moment\n",
    "* everything that appears in the story is perfectly legible, meaningful\n",
    "* every piece of meaning has a place in the world, a sourc of rationality in Homer\n",
    "* how does this apply to death and war?"
   ]
  },
  {
   "attachments": {},
   "cell_type": "markdown",
   "metadata": {},
   "source": [
    "### 01/31 TUESDAY"
   ]
  },
  {
   "attachments": {},
   "cell_type": "markdown",
   "metadata": {},
   "source": [
    "Gilgamesh is like a father figure\n",
    "\n",
    "* Gilgamesh deeply consumptive\n",
    "* pillaging his own people along with the natural world\n",
    "* knowledge of the flood, has three secrets\n",
    "* Ishtar is at the center in his vision\n",
    "* Gilgamesh learns something after throwing out Ishtar\n",
    "* Gilgamesh's motives and converns\n",
    "  * desire for immortality through fame\n",
    "  * support of artifacts and traditions of remembrance\n",
    "  * destroys the demon guarding the ceder forest\n",
    "\n",
    "Gilgamesh rejects Ishtar\n",
    "* principle of dependence\n",
    "* principle of imperfect fit\n",
    "* principle of mutual balance\n",
    "* principle of transformation\n",
    "\n",
    "reasons that Gilgamesh rejects Ishtar addressed in second half? reconciliation with Ishtar\n",
    "\n",
    "wisdom journey, goes to the core of who we are, the symbol of the mountain\n",
    "\n",
    "* Gilgamesh embodies urban life\n",
    "* Enkidu embodes plains people\n",
    "* Huwawa embodies forest people\n",
    "* Siduri embodies some form of life that is totally reconciled with this form of dependence, natural cycles: accepting, joyful of finitudes of life\n",
    "\n",
    "children are the natural way to immortality\n",
    "\n",
    "* approaching the long boat poles from a certain cultural point of view, that of a river people\n",
    "* waters of death: no mortals have passed it\n",
    "* mythic tradition that of a body of water that separates the living/mortal from the afterlfe\n",
    "* Greek tradition: the river lethe, the river of forgetfulness\n",
    "* the water of death may be uninhabitable\n",
    "* the water surrounding him killed everyone\n",
    "\n",
    "harness, be vulnerable to the elements\n",
    "* evolution and adaptation\n",
    "* stripping naked shows he has become vulnerable\n",
    "* life after life, the dead animal skin keeping Gilgamesh alive\n",
    "* wind is categorically different than using your own strength"
   ]
  },
  {
   "attachments": {},
   "cell_type": "markdown",
   "metadata": {},
   "source": [
    "### 01/26 Thursday"
   ]
  },
  {
   "attachments": {},
   "cell_type": "markdown",
   "metadata": {},
   "source": [
    "What does Gilgamesh need to learn?\n",
    "\n",
    "A dream can serve as an interpretation of the world. Dreams can make reality more meaningful.\n",
    "\n",
    "Enkidu's dream is the first true realization of death in an urban culture.\n",
    "\n",
    "A dream or philosophical myth may be the distillation of the true meaning of something.\n",
    "\n",
    "human artifice allows for new forms of remembrance, new conceptions of life and death\n",
    "\n",
    "how can human beings be a resource for the natural world?\n",
    "* humus \"soil\" related to the word human\n",
    "\n",
    "zoen vs bios greek words\n",
    "\n",
    "we learn about death through other people\n",
    "\n",
    "* Siduri: non reciprocity\n",
    "* Utnapishtim: mutual balance\n",
    "* snake: transformative power\n",
    "\n",
    "mutuality to touch"
   ]
  },
  {
   "attachments": {},
   "cell_type": "markdown",
   "metadata": {},
   "source": [
    "### 01/24 Tuesday"
   ]
  },
  {
   "attachments": {},
   "cell_type": "markdown",
   "metadata": {},
   "source": [
    "three principles\n",
    "* principle of non reciprocity\n",
    "* principle of imperfect fit: things in nature don't quite fit perfectly in an ecosystem\n",
    "  * technological things do fit perfectly because they are artifices\n",
    "* principle of transformation\n",
    "  * principle of mutual balance: Ishtar's object of desire represents the rebalancing of the ecosystem\n",
    "  * principle of the transformative power of life\n",
    "\n",
    "the bull of heaven is like a drought\n",
    "\n",
    "two ways of thinking about death\n",
    "* cyclical: born, dies, reincorporation into something else (the transformation that Gilgamesh fears so much): life after life\n",
    "* linear: beginning and end: death after life"
   ]
  },
  {
   "attachments": {},
   "cell_type": "markdown",
   "metadata": {},
   "source": [
    "---"
   ]
  },
  {
   "attachments": {},
   "cell_type": "markdown",
   "metadata": {},
   "source": [
    "\"Of everything human beings face, the question of nature has the deepest roots and the widest consequences.\"\n",
    "* of everything we are up against\n",
    "* what is nature? what is this nature that we are up against?\n",
    "* this is the final/last/ultimate question? why? because it implicates mortality and death?\n",
    "\n",
    "\"How things stand with nature, including what nature is for us and what we can contribute to it, is the fundamental challenge facing our civilization.\"\n",
    "* what role does nature play in our lives?\n",
    "* how is the individual related to nature? how is civilization related to nature?\n",
    "\n",
    "\"It has always been this way: the first father of our civilization, Gilgamesh, renegotiated his relationship with nature.\"\n",
    "\n",
    "\"In the first unit of this course, we examine Gilgamesh's first attempts to take his mortal fate into his own hands; the ecological meaning of the story of the flood; and why he ends by devoting his city to nature.\"\n",
    "\n",
    "\"We study the Homeric epics, too, which articulate the problem of individual mortality and the meaning of an individual life in the context of a natural world that prevails around it.\"\n",
    "\n",
    "\"But it has often been said that the Greeks discovered the study of nature (physis).\"\n",
    "\n",
    "\"Nature as a whole is an unusual object of inquiry and names a particular way of experiencing phenomena.\"\n",
    "\n",
    "\"[Nature's] discovery coincided with the Greek birth of philosophical thinking.\"\n",
    "\n",
    "\"How and why did Nature emerge as an all-pervasive concern, and how did the Greeks shape how we think nature?\"\n",
    "\n",
    "\"The second unit in this course explores these questions, concentrating on Heraclitus, the Atomists, and Plato's Timaeus.\"\n",
    "\n",
    "\"We address, among other things, the idea that events are governed by non intentional principles; that there is a single fundamental principle of all phenomena; the concept of dynamic structure; that nothning can be truly created or destroyed; that change disperses being; and the concept of atomic composition.\"\n",
    "\n",
    "\"In the final unit we turn to study Greece's paradigmatic philosopher of nature, Aristotle.\"\n",
    "\n",
    "\"Here we examine his watershed arguments that materiality exists; the distinction between nature and artifice; the sort of reality that belongs to automatic processes; the problem of emergence; and the argument that events occur because being is structured, and therefore oriented, by soul.\"\n",
    "\n",
    "\"These thinkers blaze paths for thinking nature for our civilization, and by retreading these paths we can discover ways of experiencing natural phenomena that were left begind and set aside.\""
   ]
  },
  {
   "attachments": {},
   "cell_type": "markdown",
   "metadata": {},
   "source": [
    "0209 The reality of war and glory in the context of nature"
   ]
  },
  {
   "attachments": {},
   "cell_type": "markdown",
   "metadata": {},
   "source": [
    "---"
   ]
  },
  {
   "attachments": {},
   "cell_type": "markdown",
   "metadata": {},
   "source": [
    "Pre Socratic\n",
    "* Thales\n",
    "* Empedocles\n",
    "\n",
    "Greek Mathematicians\n",
    "* Archimedes\n",
    "* Euclid\n",
    "* Pythagoras"
   ]
  },
  {
   "attachments": {},
   "cell_type": "markdown",
   "metadata": {},
   "source": [
    "---"
   ]
  },
  {
   "attachments": {},
   "cell_type": "markdown",
   "metadata": {},
   "source": [
    "## Texts"
   ]
  },
  {
   "attachments": {},
   "cell_type": "markdown",
   "metadata": {},
   "source": [
    "* [[W](https://en.wikipedia.org/wiki/Gaston_Bachelard)] Bachelard, Gaston\n",
    "* Ferry. _Gilgamesh_.\n",
    "* Klein, Jacob. (1976). _Greek Mathematical Thought and the Origin of Algebra_. Dover.\n",
    "* MacBeth. (). _Realizing Reason_. OUP.\n",
    "* Moore, Christopher. (2021). _Calling Philosophers Names: On the Origin of a Discipline_. Princeton University Press."
   ]
  },
  {
   "attachments": {},
   "cell_type": "markdown",
   "metadata": {},
   "source": [
    "---"
   ]
  },
  {
   "attachments": {},
   "cell_type": "markdown",
   "metadata": {},
   "source": [
    "## Terms"
   ]
  },
  {
   "attachments": {},
   "cell_type": "markdown",
   "metadata": {},
   "source": [
    "* [SEP][[W](https://en.wikipedia.org/wiki/Aletheia)] Aletheia αληθεια (truth; unconcealedness; disclosure)\n",
    "* [SEP][[W](https://en.wikipedia.org/wiki/Anaxagoras)] Anaxagoras of Clazomenae\n",
    "* [SEP][[W](https://en.wikipedia.org/wiki/Anaximander)] Anaximander of Miletus\n",
    "* [SEP][[W](https://en.wikipedia.org/wiki/Anaximenes_of_Miletus)] Anaximenes of Miletus\n",
    "* [SEP][[W](https://en.wikipedia.org/wiki/Ancient_Greek_philosophy)] Ancient Greek Philosophy\n",
    "* [[SEP](https://plato.stanford.edu/entries/skepticism-ancient/)][W] Ancient Skepticism\n",
    "* [SEP][[W](https://en.wikipedia.org/wiki/Arche)] Arche αρχη (first principle; origin; source\n",
    "* [SEP][[W](https://en.wikipedia.org/wiki/Archelaus_(philosopher))] Archelaus\n",
    "* [SEP][[W](https://en.wikipedia.org/wiki/Arete)] Arete αρετη (excellence; virtue)\n",
    "* [[SEP](https://plato.stanford.edu/entries/aristotle/)][[W](https://en.wikipedia.org/wiki/Aristotle)] Aristotle\n",
    "* [SEP][[W](https://en.wikipedia.org/wiki/Atom)] Atom\n",
    "* [SEP][[W](https://en.wikipedia.org/wiki/Atomism)] Atomism\n",
    "* [[SEP](https://plato.stanford.edu/entries/atomism-modern/)][W] Atomism, 17th-20th centuries\n",
    "* [[SEP](https://plato.stanford.edu/entries/atomism-ancient/)][W] Atomism, Ancient\n",
    "* [SEP][W] Atom ατομον, ατομοσ (uncuttable; indivisible)\n",
    "* [SEP][[W](https://en.wikipedia.org/wiki/Creation_myth)] Cosmogonic/Creation Myth\n",
    "* [SEP][[W](https://en.wikipedia.org/wiki/Flood_myth)] Deluge/Flood Myth\n",
    "* [[SEP](https://plato.stanford.edu/entries/democritus/)][[W](https://en.wikipedia.org/wiki/Democritus)] Democritus\n",
    "* [SEP][[W](https://en.wikipedia.org/wiki/Dialectic)] Dialectic\n",
    "* [SEP][[W](https://en.wikipedia.org/wiki/Diels%E2%80%93Kranz_numbering)] Diels-Kranz Numbering\n",
    "* [SEP][[W](https://en.wikipedia.org/wiki/Diogenes_Laertius)] Diogenes Laertius\n",
    "* [SEP][[W](https://en.wikipedia.org/wiki/Doxa)] Doxa δοξα < δοκειν (to appear to be; to seem)\n",
    "* [SEP][[W](https://en.wikipedia.org/wiki/Eleatics)] Eleatics\n",
    "* [SEP][[W](https://en.wikipedia.org/wiki/Classical_element)] Elements, Classical\n",
    "* [SEP][W] Emergentism\n",
    "* [SEP][[W](https://en.wikipedia.org/wiki/Empedocles)] Empedocles of Akragas\n",
    "* [SEP][[W](https://en.wikipedia.org/wiki/Endurantism)] Endurantism\n",
    "* [SEP][[W](https://en.wikipedia.org/wiki/Energy)] Energy ενεργεια (activity)\n",
    "* [SEP][[W](https://en.wikipedia.org/wiki/Epic_of_Gilgamesh)] Epic of Gilgamesh\n",
    "* [[SEP](https://plato.stanford.edu/entries/epicurus/)][W] Epicurus\n",
    "* [SEP][[W](https://en.wikipedia.org/wiki/Episteme)] Episteme επιστημη (scientific knowledge)\n",
    "* [SEP][[W](https://en.wikipedia.org/wiki/Ethos)] Ethos ηθος (character; custom; habit)\n",
    "* [SEP][[W](https://en.wikipedia.org/wiki/Eudaimonia)] Eudaimonia eυδαιμονια (living well; happiness)\n",
    "* [SEP][[W](https://en.wikipedia.org/wiki/Eunoia)] Eunoia ευνοια (good will; well mind; beautiful thinking)\n",
    "* [SEP][[W](https://en.wikipedia.org/wiki/Gilgamesh_flood_myth)] Gilgamesh Flood Myth\n",
    "* [SEP][[W](https://en.wikipedia.org/wiki/Heraclitus)] Heraclitus of Ephesus\n",
    "* [SEP][[W](https://en.wikipedia.org/wiki/Hylomorphism)] Hylomorphism\n",
    "* [SEP][[W](https://en.wikipedia.org/wiki/Hylozoism)] Hylozoism\n",
    "* [SEP][[W](https://en.wikipedia.org/wiki/Ionian_School_(philosophy))] Ionian School\n",
    "* [SEP][[W](https://en.wikipedia.org/wiki/Leucippus)] Leucippus\n",
    "* [SEP][[W](https://en.wikipedia.org/wiki/Logos)] Logos λογος\n",
    "* [[SEP](https://plato.stanford.edu/entries/lucretius/)][W] Lucretius\n",
    "* [SEP][[W](https://en.wikipedia.org/wiki/Materialism)] Materialism\n",
    "* [SEP][[W](https://en.wikipedia.org/wiki/Matter)] Matter\n",
    "* [SEP][[W](https://en.wikipedia.org/wiki/Melissus_of_Samos)] Melissus of Samos\n",
    "* [[SEP](https://plato.stanford.edu/entries/mereology)][[W](https://en.wikipedia.org/wiki/Mereology)] Mereology\n",
    "* [SEP][[W](https://en.wikipedia.org/wiki/Metaphysics)] Metaphysics\n",
    "* [SEP][[W](https://en.wikipedia.org/wiki/Metempsychosis)] Metempsychosis μετεμψυχωσις\n",
    "* [SEP][[W](https://en.wikipedia.org/wiki/Monism)] Monism\n",
    "* [SEP][[W](https://en.wikipedia.org/wiki/Naturalism_(philosophy))] Naturalism\n",
    "* [SEP][[W](https://en.wikipedia.org/wiki/Nature)] Nature\n",
    "* [SEP][[W](https://en.wikipedia.org/wiki/Nous)] Nous νους (mind; thought; understanding; intellect; intelligence)\n",
    "* [SEP][[W](https://en.wikipedia.org/wiki/Ousia)] Ousia ουσια (substance; essence; being)\n",
    "* [SEP][[W](https://en.wikipedia.org/wiki/Parmenides)] Parmenides of Elea\n",
    "* [SEP][[W](https://en.wikipedia.org/wiki/Philolaus)] Philolaus\n",
    "* [SEP][W] Philosophy of Meaning\n",
    "* [SEP][[W](https://en.wikipedia.org/wiki/Philosophy_of_space_and_time)] Philosophy of Time\n",
    "* [SEP][[W](https://en.wikipedia.org/wiki/Phronesis)] Phronesis φρονησις (prudence; practical wisdom; good judgment; mindfulness)\n",
    "* [SEP][[W](https://en.wikipedia.org/wiki/Physis)] Physis φυσις (nature)\n",
    "* [[SEP](https://plato.stanford.edu/entries/plato/)][[W](https://en.wikipedia.org/wiki/Plato)] Plato\n",
    "* [[SEP](https://plato.stanford.edu/entries/presocratics/)][[W](https://en.wikipedia.org/wiki/Pre-Socratic_philosophy)] Pre Socratic Philosophy\n",
    "* [SEP][[W](https://en.wikipedia.org/wiki/Psyche_(psychology))] Psyche ψυχη (soul; spirit; life)\n",
    "* [[SEP](https://plato.stanford.edu/entries/pythagoras/)][[W](https://en.wikipedia.org/wiki/Pythagoras)] Pythagoras of Samos\n",
    "* [SEP][W] Reductionism\n",
    "* [SEP][[W](https://en.wikipedia.org/wiki/Seven_Sages_of_Greece)] Seven Sages of Greece\n",
    "* [SEP][[W](https://en.wikipedia.org/wiki/Socrates)] Socrates\n",
    "* [SEP][[W](https://en.wikipedia.org/wiki/Sophia_(wisdom))] Sophia σοφια (wisdom)\n",
    "* [SEP][[W](https://en.wikipedia.org/wiki/Substance_theory)] Substance-Attribute Theory\n",
    "* [SEP][[W](https://en.wikipedia.org/wiki/Substantial_form)] Substantial Form\n",
    "* [SEP][[W](https://en.wikipedia.org/wiki/Techne)] Techne τεχνη (craft; art)\n",
    "* [SEP][[W](https://en.wikipedia.org/wiki/Thales_of_Miletus)] Thales of Miletus\n",
    "* [SEP][[W](https://en.wikipedia.org/wiki/Thales%27s_theorem)] Thales' Theorem\n",
    "* [SEP][[W](https://en.wikipedia.org/wiki/Vacuum)] Vacuum\n",
    "* [SEP][[W](https://en.wikipedia.org/wiki/Wild_man)] Wild Man\n",
    "* [SEP][[W](https://en.wikipedia.org/wiki/Xenophanes)] Xenophanes of Colophon\n",
    "* [SEP][[W](https://en.wikipedia.org/wiki/Zeno_of_Elea)] Zeno of Elea\n",
    "* [[SEP](https://plato.stanford.edu/entries/paradox-zeno/)][W] Zeno, paradoxes"
   ]
  },
  {
   "attachments": {},
   "cell_type": "markdown",
   "metadata": {},
   "source": [
    "---"
   ]
  },
  {
   "attachments": {},
   "cell_type": "markdown",
   "metadata": {},
   "source": [
    "Homer\n",
    "* [SEP][W] Achilles\n",
    "* [SEP][[W](https://en.wikipedia.org/wiki/Iliad)] Iliad\n",
    "* [SEP][W] Priam"
   ]
  },
  {
   "attachments": {},
   "cell_type": "markdown",
   "metadata": {},
   "source": [
    "---"
   ]
  },
  {
   "attachments": {},
   "cell_type": "markdown",
   "metadata": {},
   "source": [
    "Gilgamesh\n",
    "* [Anu](https://en.wikipedia.org/wiki/Anu)\n",
    "* [Bull of Heaven](https://en.wikipedia.org/wiki/Bull_of_Heaven)\n",
    "* [Cedar Forest](https://en.wikipedia.org/wiki/Cedar_Forest)\n",
    "* [Enkidu](https://en.wikipedia.org/wiki/Enkidu)\n",
    "* Enki\n",
    "* [Enlil](https://en.wikipedia.org/wiki/Enlil)\n",
    "* [Gilgamesh](https://en.wikipedia.org/wiki/Gilgamesh)\n",
    "* [Huwawa](https://en.wikipedia.org/wiki/Humbaba)\n",
    "* [Inanna/Ishtar](https://en.wikipedia.org/wiki/Inanna)\n",
    "* [Queen of Heaven](https://en.wikipedia.org/wiki/Queen_of_Heaven_(antiquity))\n",
    "* [Shamash/Utu](https://en.wikipedia.org/wiki/Utu)\n",
    "* [Shamhat](https://en.wikipedia.org/wiki/Shamhat)\n",
    "* [Siduri](https://en.wikipedia.org/wiki/Siduri)\n",
    "* [Sin-leqi-unninni](https://en.wikipedia.org/wiki/S%C3%AEn-l%C4%93qi-unninni)\n",
    "* [Utnapishtim](https://en.wikipedia.org/wiki/Utnapishtim)"
   ]
  },
  {
   "attachments": {},
   "cell_type": "markdown",
   "metadata": {},
   "source": [
    "---"
   ]
  }
 ],
 "metadata": {
  "kernelspec": {
   "display_name": "temp",
   "language": "python",
   "name": "python3"
  },
  "language_info": {
   "name": "python",
   "version": "3.10.8"
  },
  "orig_nbformat": 4,
  "vscode": {
   "interpreter": {
    "hash": "8f0d4d45b15790c9a43c559f124c7ba0862b8436c903997b2987a8faf626308c"
   }
  }
 },
 "nbformat": 4,
 "nbformat_minor": 2
}
