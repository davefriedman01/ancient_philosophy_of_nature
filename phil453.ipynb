{
 "cells": [
  {
   "attachments": {},
   "cell_type": "markdown",
   "metadata": {},
   "source": [
    "# PHIL 453 Ancient Philosophy of Nature"
   ]
  },
  {
   "attachments": {},
   "cell_type": "markdown",
   "metadata": {},
   "source": [
    "---"
   ]
  },
  {
   "attachments": {},
   "cell_type": "markdown",
   "metadata": {},
   "source": [
    "## Class Notes"
   ]
  },
  {
   "attachments": {},
   "cell_type": "markdown",
   "metadata": {},
   "source": [
    "### 01/31 TUESDAY"
   ]
  },
  {
   "attachments": {},
   "cell_type": "markdown",
   "metadata": {},
   "source": [
    "Gilgamesh is like a father figure\n",
    "\n",
    "* Gilgamesh deeply consumptive\n",
    "* pillaging his own people along with the natural world\n",
    "* knowledge of the flood, has three secrets\n",
    "* Ishtar is at the center in his vision\n",
    "* Gilgamesh learns something after throwing out Ishtar\n",
    "* Gilgamesh's motives and converns\n",
    "  * desire for immortality through fame\n",
    "  * support of artifacts and traditions of remembrance\n",
    "  * destroys the demon guarding the ceder forest\n",
    "\n",
    "Gilgamesh rejects Ishtar\n",
    "* principle of dependence\n",
    "* principle of imperfect fit\n",
    "* principle of mutual balance\n",
    "* principle of transformation\n",
    "\n",
    "reasons that Gilgamesh rejects Ishtar addressed in second half? reconciliation with Ishtar\n",
    "\n",
    "wisdom journey, goes to the core of who we are, the symbol of the mountain\n",
    "\n",
    "* Gilgamesh embodies urban life\n",
    "* Enkidu embodes plains people\n",
    "* Huwawa embodies forest people\n",
    "* Siduri embodies some form of life that is totally reconciled with this form of dependence, natural cycles: accepting, joyful of finitudes of life\n",
    "\n",
    "children are the natural way to immortality\n",
    "\n",
    "* approaching the long boat poles from a certain cultural point of view, that of a river people\n",
    "* waters of death: no mortals have passed it\n",
    "* mythic tradition that of a body of water that separates the living/mortal from the afterlfe\n",
    "* Greek tradition: the river lethe, the river of forgetfulness\n",
    "* the water of death may be uninhabitable\n",
    "* the water surrounding him killed everyone\n",
    "\n",
    "harness, be vulnerable to the elements\n",
    "* evolution and adaptation\n",
    "* stripping naked shows he has become vulnerable\n",
    "* life after life, the dead animal skin keeping Gilgamesh alive\n",
    "* wind is categorically different than using your own strength"
   ]
  },
  {
   "attachments": {},
   "cell_type": "markdown",
   "metadata": {},
   "source": [
    "### 01/26 Thursday"
   ]
  },
  {
   "attachments": {},
   "cell_type": "markdown",
   "metadata": {},
   "source": [
    "What does Gilgamesh need to learn?\n",
    "\n",
    "A dream can serve as an interpretation of the world. Dreams can make reality more meaningful.\n",
    "\n",
    "Enkidu's dream is the first true realization of death in an urban culture.\n",
    "\n",
    "A dream or philosophical myth may be the distillation of the true meaning of something.\n",
    "\n",
    "human artifice allows for new forms of remembrance, new conceptions of life and death\n",
    "\n",
    "how can human beings be a resource for the natural world?\n",
    "* humus \"soil\" related to the word human\n",
    "\n",
    "zoen vs bios greek words\n",
    "\n",
    "we learn about death through other people\n",
    "\n",
    "* Siduri: non reciprocity\n",
    "* Utnapishtim: mutual balance\n",
    "* snake: transformative power\n",
    "\n",
    "mutuality to touch"
   ]
  },
  {
   "attachments": {},
   "cell_type": "markdown",
   "metadata": {},
   "source": [
    "### 01/24 Tuesday"
   ]
  },
  {
   "attachments": {},
   "cell_type": "markdown",
   "metadata": {},
   "source": [
    "three principles\n",
    "* principle of non reciprocity\n",
    "* principle of imperfect fit: things in nature don't quite fit perfectly in an ecosystem\n",
    "  * technological things do fit perfectly because they are artifices\n",
    "* principle of transformation\n",
    "  * principle of mutual balance: Ishtar's object of desire represents the rebalancing of the ecosystem\n",
    "  * principle of the transformative power of life\n",
    "\n",
    "the bull of heaven is like a drought\n",
    "\n",
    "two ways of thinking about death\n",
    "* cyclical: born, dies, reincorporation into something else (the transformation that Gilgamesh fears so much): life after life\n",
    "* linear: beginning and end: death after life"
   ]
  },
  {
   "attachments": {},
   "cell_type": "markdown",
   "metadata": {},
   "source": [
    "---"
   ]
  },
  {
   "attachments": {},
   "cell_type": "markdown",
   "metadata": {},
   "source": [
    "## Ferry's Gilgamesh"
   ]
  },
  {
   "attachments": {},
   "cell_type": "markdown",
   "metadata": {},
   "source": [
    "### Terms"
   ]
  },
  {
   "attachments": {},
   "cell_type": "markdown",
   "metadata": {},
   "source": [
    "* [Cosmogonic/Creation Myth](https://en.wikipedia.org/wiki/Creation_myth)\n",
    "* [Deluge/Flood Myth](https://en.wikipedia.org/wiki/Flood_myth)\n",
    "* [Epic of Gilgamesh](https://en.wikipedia.org/wiki/Epic_of_Gilgamesh)\n",
    "* [Gilgamesh Flood Myth](https://en.wikipedia.org/wiki/Gilgamesh_flood_myth)\n",
    "* [Wild Man](https://en.wikipedia.org/wiki/Wild_man)\n",
    "\n",
    "Figures\n",
    "\n",
    "* [Anu](https://en.wikipedia.org/wiki/Anu)\n",
    "* [Bull of Heaven](https://en.wikipedia.org/wiki/Bull_of_Heaven)\n",
    "* [Cedar Forest](https://en.wikipedia.org/wiki/Cedar_Forest)\n",
    "* [Enkidu](https://en.wikipedia.org/wiki/Enkidu)\n",
    "* Enki\n",
    "* [Enlil](https://en.wikipedia.org/wiki/Enlil)\n",
    "* [Gilgamesh](https://en.wikipedia.org/wiki/Gilgamesh)\n",
    "* [Huwawa](https://en.wikipedia.org/wiki/Humbaba)\n",
    "* [Inanna/Ishtar](https://en.wikipedia.org/wiki/Inanna)\n",
    "* [Queen of Heaven](https://en.wikipedia.org/wiki/Queen_of_Heaven_(antiquity))\n",
    "* [Shamash/Utu](https://en.wikipedia.org/wiki/Utu)\n",
    "* [Shamhat](https://en.wikipedia.org/wiki/Shamhat)\n",
    "* [Siduri](https://en.wikipedia.org/wiki/Siduri)\n",
    "* [Sin-leqi-unninni](https://en.wikipedia.org/wiki/S%C3%AEn-l%C4%93qi-unninni)\n",
    "* [Utnapishtim](https://en.wikipedia.org/wiki/Utnapishtim)\n",
    "\n",
    "Languages\n",
    "* Akkadian\n",
    "* Assyrian\n",
    "* Babylonian\n",
    "* Hittite\n",
    "* Hurrian\n",
    "* Sumerian"
   ]
  }
 ],
 "metadata": {
  "kernelspec": {
   "display_name": "temp",
   "language": "python",
   "name": "python3"
  },
  "language_info": {
   "name": "python",
   "version": "3.10.8 | packaged by conda-forge | (main, Nov 22 2022, 08:25:13) [Clang 14.0.6 ]"
  },
  "orig_nbformat": 4,
  "vscode": {
   "interpreter": {
    "hash": "8f0d4d45b15790c9a43c559f124c7ba0862b8436c903997b2987a8faf626308c"
   }
  }
 },
 "nbformat": 4,
 "nbformat_minor": 2
}
