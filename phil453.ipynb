{
 "cells": [
  {
   "attachments": {},
   "cell_type": "markdown",
   "metadata": {},
   "source": [
    "# PHIL 453 Ancient Philosophy of Nature"
   ]
  },
  {
   "attachments": {},
   "cell_type": "markdown",
   "metadata": {},
   "source": [
    "---"
   ]
  },
  {
   "attachments": {},
   "cell_type": "markdown",
   "metadata": {},
   "source": [
    "\"Of everything human beings face, the question of nature has the deepest roots and the widest consequences.\"\n",
    "* of everything we are up against\n",
    "* what is nature? what is this nature that we are up against?\n",
    "* this is the final/last/ultimate question? why? because it implicates mortality and death?\n",
    "\n",
    "\"How things stand with nature, including what nature is for us and what we can contribute to it, is the fundamental challenge facing our civilization.\"\n",
    "* what role does nature play in our lives?\n",
    "* how is the individual related to nature? how is civilization related to nature?\n",
    "\n",
    "\"It has always been this way: the first father of our civilization, Gilgamesh, renegotiated his relationship with nature.\"\n",
    "\n",
    "\"In the first unit of this course, we examine Gilgamesh's first attempts to take his mortal fate into his own hands; the ecological meaning of the story of the flood; and why he ends by devoting his city to nature.\"\n",
    "\n",
    "\"We study the Homeric epics, too, which articulate the problem of individual mortality and the meaning of an individual life in the context of a natural world that prevails around it.\"\n",
    "\n",
    "\"But it has often been said that the Greeks discovered the study of nature (physis).\"\n",
    "\n",
    "\"Nature as a whole is an unusual object of inquiry and names a particular way of experiencing phenomena.\"\n",
    "\n",
    "\"[Nature's] discovery coincided with the Greek birth of philosophical thinking.\"\n",
    "\n",
    "\"How and why did Nature emerge as an all-pervasive concern, and how did the Greeks shape how we think nature?\"\n",
    "\n",
    "\"The second unit in this course explores these questions, concentrating on Heraclitus, the Atomists, and Plato's Timaeus.\"\n",
    "\n",
    "\"We address, among other things, the idea that events are governed by non intentional principles; that there is a single fundamental principle of all phenomena; the concept of dynamic structure; that nothning can be truly created or destroyed; that change disperses being; and the concept of atomic composition.\"\n",
    "\n",
    "\"In the final unit we turn to study Greece's paradigmatic philosopher of nature, Aristotle.\"\n",
    "\n",
    "\"Here we examine his watershed arguments that materiality exists; the distinction between nature and artifice; the sort of reality that belongs to automatic processes; the problem of emergence; and the argument that events occur because being is structured, and therefore oriented, by soul.\"\n",
    "\n",
    "\"These thinkers blaze paths for thinking nature for our civilization, and by retreading these paths we can discover ways of experiencing natural phenomena that were left begind and set aside.\""
   ]
  },
  {
   "attachments": {},
   "cell_type": "markdown",
   "metadata": {},
   "source": [
    "---"
   ]
  },
  {
   "attachments": {},
   "cell_type": "markdown",
   "metadata": {},
   "source": [
    "Pre Socratic\n",
    "* Thales\n",
    "* Empedocles\n",
    "\n",
    "Greek Mathematicians\n",
    "* Archimedes\n",
    "* Euclid\n",
    "* Pythagoras"
   ]
  },
  {
   "attachments": {},
   "cell_type": "markdown",
   "metadata": {},
   "source": [
    "---"
   ]
  },
  {
   "attachments": {},
   "cell_type": "markdown",
   "metadata": {},
   "source": [
    "## Texts"
   ]
  },
  {
   "attachments": {},
   "cell_type": "markdown",
   "metadata": {},
   "source": [
    "* [[W](https://en.wikipedia.org/wiki/Gaston_Bachelard)] Bachelard, Gaston\n",
    "* Brill, Sara. (2020). _Aristotle on the Concept of Shared Life_. OUP.\n",
    "* Ferry. _Gilgamesh_.\n",
    "* Graeber, David & David Wengrow. (2023). _The Dawn of Everything: A New History of Humanity_.\n",
    "* Klein, Jacob. (1976). _Greek Mathematical Thought and the Origin of Algebra_. Dover.\n",
    "* MacBeth. (). _Realizing Reason_. OUP.\n",
    "* Moore, Christopher. (2021). _Calling Philosophers Names: On the Origin of a Discipline_. Princeton University Press."
   ]
  },
  {
   "attachments": {},
   "cell_type": "markdown",
   "metadata": {},
   "source": [
    "---"
   ]
  },
  {
   "attachments": {},
   "cell_type": "markdown",
   "metadata": {},
   "source": [
    "## Terms"
   ]
  },
  {
   "attachments": {},
   "cell_type": "markdown",
   "metadata": {},
   "source": [
    "* [SEP][[W](https://en.wikipedia.org/wiki/Aletheia)] Aletheia αληθεια (truth; unconcealedness; disclosure)\n",
    "* [SEP][[W](https://en.wikipedia.org/wiki/Anaxagoras)] Anaxagoras of Clazomenae\n",
    "* [SEP][[W](https://en.wikipedia.org/wiki/Anaximander)] Anaximander of Miletus\n",
    "* [SEP][[W](https://en.wikipedia.org/wiki/Anaximenes_of_Miletus)] Anaximenes of Miletus\n",
    "* [SEP][[W](https://en.wikipedia.org/wiki/Ancient_Greek_philosophy)] Ancient Greek Philosophy\n",
    "* [[SEP](https://plato.stanford.edu/entries/skepticism-ancient/)][W] Ancient Skepticism\n",
    "* [SEP][[W](https://en.wikipedia.org/wiki/Arche)] Arche αρχη (first principle; origin; source\n",
    "* [SEP][[W](https://en.wikipedia.org/wiki/Archelaus_(philosopher))] Archelaus\n",
    "* [SEP][[W](https://en.wikipedia.org/wiki/Arete)] Arete αρετη (excellence; virtue)\n",
    "* [[SEP](https://plato.stanford.edu/entries/aristotle/)][[W](https://en.wikipedia.org/wiki/Aristotle)] Aristotle\n",
    "* [[SEP](https://plato.stanford.edu/entries/aristotle-natphil/)][W] Aristotle's Philosophy of Nature\n",
    "* [SEP][[W](https://en.wikipedia.org/wiki/Atom)] Atom\n",
    "* [SEP][[W](https://en.wikipedia.org/wiki/Atomism)] Atomism\n",
    "* [[SEP](https://plato.stanford.edu/entries/atomism-modern/)][W] Atomism, 17th-20th centuries\n",
    "* [[SEP](https://plato.stanford.edu/entries/atomism-ancient/)][W] Atomism, Ancient\n",
    "* [SEP][W] Atom ατομον, ατομοσ (uncuttable; indivisible)\n",
    "* [SEP][[W](https://en.wikipedia.org/wiki/Creation_myth)] Cosmogonic/Creation Myth\n",
    "* [SEP][[W](https://en.wikipedia.org/wiki/Flood_myth)] Deluge/Flood Myth\n",
    "* [[SEP](https://plato.stanford.edu/entries/democritus/)][[W](https://en.wikipedia.org/wiki/Democritus)] Democritus\n",
    "* [SEP][[W](https://en.wikipedia.org/wiki/Dialectic)] Dialectic\n",
    "* [SEP][[W](https://en.wikipedia.org/wiki/Diels%E2%80%93Kranz_numbering)] Diels-Kranz Numbering\n",
    "* [SEP][[W](https://en.wikipedia.org/wiki/Diogenes_Laertius)] Diogenes Laertius\n",
    "* [SEP][[W](https://en.wikipedia.org/wiki/Doxa)] Doxa δοξα < δοκειν (to appear to be; to seem)\n",
    "* [SEP][[W](https://en.wikipedia.org/wiki/Eleatics)] Eleatics\n",
    "* [SEP][[W](https://en.wikipedia.org/wiki/Classical_element)] Elements, Classical\n",
    "* [SEP][W] Emergentism\n",
    "* [SEP][[W](https://en.wikipedia.org/wiki/Empedocles)] Empedocles of Akragas\n",
    "* [SEP][[W](https://en.wikipedia.org/wiki/Endurantism)] Endurantism\n",
    "* [SEP][[W](https://en.wikipedia.org/wiki/Energy)] Energy ενεργεια (activity)\n",
    "* [SEP][[W](https://en.wikipedia.org/wiki/Epic_of_Gilgamesh)] Epic of Gilgamesh\n",
    "* [[SEP](https://plato.stanford.edu/entries/epicurus/)][W] Epicurus\n",
    "* [SEP][[W](https://en.wikipedia.org/wiki/Episteme)] Episteme επιστημη (scientific knowledge)\n",
    "* [SEP][[W](https://en.wikipedia.org/wiki/Ethos)] Ethos ηθος (character; custom; habit)\n",
    "* [SEP][[W](https://en.wikipedia.org/wiki/Eudaimonia)] Eudaimonia eυδαιμονια (living well; happiness)\n",
    "* [SEP][[W](https://en.wikipedia.org/wiki/Eunoia)] Eunoia ευνοια (good will; well mind; beautiful thinking)\n",
    "* [SEP][[W](https://en.wikipedia.org/wiki/Gilgamesh_flood_myth)] Gilgamesh Flood Myth\n",
    "* [SEP][[W](https://en.wikipedia.org/wiki/Heraclitus)] Heraclitus of Ephesus\n",
    "* [SEP][[W](https://en.wikipedia.org/wiki/Hylomorphism)] Hylomorphism\n",
    "* [SEP][[W](https://en.wikipedia.org/wiki/Hylozoism)] Hylozoism\n",
    "* [SEP][[W](https://en.wikipedia.org/wiki/Ionian_School_(philosophy))] Ionian School\n",
    "* [SEP][[W](https://en.wikipedia.org/wiki/Leucippus)] Leucippus\n",
    "* [SEP][[W](https://en.wikipedia.org/wiki/Logos)] Logos λογος\n",
    "* [[SEP](https://plato.stanford.edu/entries/lucretius/)][W] Lucretius\n",
    "* [SEP][[W](https://en.wikipedia.org/wiki/Materialism)] Materialism\n",
    "* [SEP][[W](https://en.wikipedia.org/wiki/Matter)] Matter\n",
    "* [SEP][[W](https://en.wikipedia.org/wiki/Melissus_of_Samos)] Melissus of Samos\n",
    "* [[SEP](https://plato.stanford.edu/entries/mereology)][[W](https://en.wikipedia.org/wiki/Mereology)] Mereology\n",
    "* [SEP][[W](https://en.wikipedia.org/wiki/Metaphysics)] Metaphysics\n",
    "* [SEP][[W](https://en.wikipedia.org/wiki/Metempsychosis)] Metempsychosis μετεμψυχωσις\n",
    "* [SEP][[W](https://en.wikipedia.org/wiki/Monism)] Monism\n",
    "* [SEP][[W](https://en.wikipedia.org/wiki/Naturalism_(philosophy))] Naturalism\n",
    "* [SEP][[W](https://en.wikipedia.org/wiki/Nature)] Nature\n",
    "* [SEP][[W](https://en.wikipedia.org/wiki/Nous)] Nous νους (mind; thought; understanding; intellect; intelligence)\n",
    "* [SEP][[W](https://en.wikipedia.org/wiki/Ousia)] Ousia ουσια (substance; essence; being)\n",
    "* [SEP][[W](https://en.wikipedia.org/wiki/Parmenides)] Parmenides of Elea\n",
    "* [SEP][[W](https://en.wikipedia.org/wiki/Philolaus)] Philolaus\n",
    "* [SEP][W] Philosophy of Meaning\n",
    "* [SEP][[W](https://en.wikipedia.org/wiki/Natural_philosophy)] Philosophy of Nature\n",
    "* [SEP][[W](https://en.wikipedia.org/wiki/Philosophy_of_space_and_time)] Philosophy of Time\n",
    "* [SEP][[W](https://en.wikipedia.org/wiki/Phronesis)] Phronesis φρονησις (prudence; practical wisdom; good judgment; mindfulness)\n",
    "* [SEP][[W](https://en.wikipedia.org/wiki/Physis)] Physis φυσις (nature)\n",
    "* [[SEP](https://plato.stanford.edu/entries/plato/)][[W](https://en.wikipedia.org/wiki/Plato)] Plato\n",
    "* [[SEP](https://plato.stanford.edu/entries/presocratics/)][[W](https://en.wikipedia.org/wiki/Pre-Socratic_philosophy)] Pre Socratic Philosophy\n",
    "* [SEP][[W](https://en.wikipedia.org/wiki/Psyche_(psychology))] Psyche ψυχη (soul; spirit; life)\n",
    "* [[SEP](https://plato.stanford.edu/entries/pythagoras/)][[W](https://en.wikipedia.org/wiki/Pythagoras)] Pythagoras of Samos\n",
    "* [SEP][W] Reductionism\n",
    "* [SEP][[W](https://en.wikipedia.org/wiki/Seven_Sages_of_Greece)] Seven Sages of Greece\n",
    "* [SEP][[W](https://en.wikipedia.org/wiki/Socrates)] Socrates\n",
    "* [SEP][[W](https://en.wikipedia.org/wiki/Sophia_(wisdom))] Sophia σοφια (wisdom)\n",
    "* [SEP][[W](https://en.wikipedia.org/wiki/Substance_theory)] Substance-Attribute Theory\n",
    "* [SEP][[W](https://en.wikipedia.org/wiki/Substantial_form)] Substantial Form\n",
    "* [SEP][[W](https://en.wikipedia.org/wiki/Techne)] Techne τεχνη (craft; art)\n",
    "* [SEP][[W](https://en.wikipedia.org/wiki/Thales_of_Miletus)] Thales of Miletus\n",
    "* [SEP][[W](https://en.wikipedia.org/wiki/Thales%27s_theorem)] Thales' Theorem\n",
    "* [SEP][[W](https://en.wikipedia.org/wiki/Vacuum)] Vacuum\n",
    "* [SEP][[W](https://en.wikipedia.org/wiki/Wild_man)] Wild Man\n",
    "* [SEP][[W](https://en.wikipedia.org/wiki/Xenophanes)] Xenophanes of Colophon\n",
    "* [SEP][[W](https://en.wikipedia.org/wiki/Zeno_of_Elea)] Zeno of Elea\n",
    "* [[SEP](https://plato.stanford.edu/entries/paradox-zeno/)][W] Zeno, paradoxes"
   ]
  },
  {
   "attachments": {},
   "cell_type": "markdown",
   "metadata": {},
   "source": [
    "---"
   ]
  },
  {
   "attachments": {},
   "cell_type": "markdown",
   "metadata": {},
   "source": [
    "Homer\n",
    "* [SEP][W] Achilles\n",
    "* [SEP][[W](https://en.wikipedia.org/wiki/Iliad)] Iliad\n",
    "* [SEP][W] Priam\n",
    "* [Dactylic Hexameter](https://en.wikipedia.org/wiki/Dactylic_hexameter)\n",
    "* [Epic Cycle](https://en.wikipedia.org/wiki/Epic_Cycle)\n",
    "* [Homer](https://en.wikipedia.org/wiki/Homer)\n",
    "* [Homeric Greek](https://en.wikipedia.org/wiki/Homeric_Greek)\n",
    "* [Iliad](https://en.wikipedia.org/wiki/Iliad)\n",
    "* [Rhapsode](https://en.wikipedia.org/wiki/Rhapsode)"
   ]
  },
  {
   "attachments": {},
   "cell_type": "markdown",
   "metadata": {},
   "source": [
    "---"
   ]
  },
  {
   "attachments": {},
   "cell_type": "markdown",
   "metadata": {},
   "source": [
    "Gilgamesh\n",
    "* [Anu](https://en.wikipedia.org/wiki/Anu)\n",
    "* [Bull of Heaven](https://en.wikipedia.org/wiki/Bull_of_Heaven)\n",
    "* [Cedar Forest](https://en.wikipedia.org/wiki/Cedar_Forest)\n",
    "* [Enkidu](https://en.wikipedia.org/wiki/Enkidu)\n",
    "* Enki\n",
    "* [Enlil](https://en.wikipedia.org/wiki/Enlil)\n",
    "* [Gilgamesh](https://en.wikipedia.org/wiki/Gilgamesh)\n",
    "* [Huwawa](https://en.wikipedia.org/wiki/Humbaba)\n",
    "* [Inanna/Ishtar](https://en.wikipedia.org/wiki/Inanna)\n",
    "* [Queen of Heaven](https://en.wikipedia.org/wiki/Queen_of_Heaven_(antiquity))\n",
    "* [Shamash/Utu](https://en.wikipedia.org/wiki/Utu)\n",
    "* [Shamhat](https://en.wikipedia.org/wiki/Shamhat)\n",
    "* [Siduri](https://en.wikipedia.org/wiki/Siduri)\n",
    "* [Sin-leqi-unninni](https://en.wikipedia.org/wiki/S%C3%AEn-l%C4%93qi-unninni)\n",
    "* [Utnapishtim](https://en.wikipedia.org/wiki/Utnapishtim)"
   ]
  },
  {
   "attachments": {},
   "cell_type": "markdown",
   "metadata": {},
   "source": [
    "---"
   ]
  }
 ],
 "metadata": {
  "kernelspec": {
   "display_name": "temp",
   "language": "python",
   "name": "python3"
  },
  "language_info": {
   "name": "python",
   "version": "3.10.8"
  },
  "orig_nbformat": 4,
  "vscode": {
   "interpreter": {
    "hash": "8f0d4d45b15790c9a43c559f124c7ba0862b8436c903997b2987a8faf626308c"
   }
  }
 },
 "nbformat": 4,
 "nbformat_minor": 2
}
