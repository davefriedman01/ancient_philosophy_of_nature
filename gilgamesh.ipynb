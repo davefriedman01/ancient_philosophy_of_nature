{
 "cells": [
  {
   "attachments": {},
   "cell_type": "markdown",
   "metadata": {},
   "source": [
    "# Gilgamesh"
   ]
  },
  {
   "attachments": {},
   "cell_type": "markdown",
   "metadata": {},
   "source": [
    "---"
   ]
  },
  {
   "attachments": {},
   "cell_type": "markdown",
   "metadata": {},
   "source": [
    "* Tablet I Prologue, Enkidu, Gilgamesh\n",
    "* Tablet II Enkidu meets Gilgamesh\n",
    "* Tablet III\n",
    "* Tablet IV\n",
    "* Tablet V\n",
    "* Tablet VI\n",
    "* Tablet VII\n",
    "* Tablet VIII\n",
    "* Tablet IX\n",
    "* Tablet X\n",
    "* Tablet XI"
   ]
  },
  {
   "attachments": {},
   "cell_type": "markdown",
   "metadata": {},
   "source": [
    "* 05 Feb - Gilgamesh wisdom journey\n",
    "* 02 Feb - HOMER\n",
    "* 31 Jan - The lessons of the flood and the snake\n",
    "* 26 Jan - Gilgamesh's journey to immortality and Siduri\n",
    "* 24 Jan - Concepts of death; mourning Enkidu\n",
    "* 22 Jan - Humbaba and Ishtar\n",
    "* 19 Jan - The rejection of Ishtar and the Bull of Heaven\n",
    "* 17 Jan - Harmonic communities, natural communities, the sublime\n",
    "* 15 Jan - Intro to Gilgamesh\n",
    "* 12 Jan - Desire and civilization\n",
    "* 10 Jan - Gilgamesh prologue; Enkidu and Shamhat; Enkidu meets Gilgamesh"
   ]
  },
  {
   "attachments": {},
   "cell_type": "markdown",
   "metadata": {},
   "source": [
    "---"
   ]
  },
  {
   "attachments": {},
   "cell_type": "markdown",
   "metadata": {},
   "source": [
    "three principles\n",
    "* principle of non reciprocity\n",
    "* principle of imperfect fit: things in nature don't quite fit perfectly in an ecosystem\n",
    "  * technological things do fit perfectly because they are artifices\n",
    "* principle of transformation\n",
    "  * principle of mutual balance: Ishtar's object of desire represents the rebalancing of the ecosystem\n",
    "  * principle of the transformative power of life\n",
    "\n",
    "the bull of heaven is like a drought\n",
    "\n",
    "two ways of thinking about death\n",
    "* cyclical: born, dies, reincorporation into something else (the transformation that Gilgamesh fears so much): life after life\n",
    "* linear: beginning and end: death after life\n",
    "\n",
    "What does Gilgamesh need to learn?\n",
    "\n",
    "A dream can serve as an interpretation of the world. Dreams can make reality more meaningful.\n",
    "\n",
    "Enkidu's dream is the first true realization of death in an urban culture.\n",
    "\n",
    "A dream or philosophical myth may be the distillation of the true meaning of something.\n",
    "\n",
    "human artifice allows for new forms of remembrance, new conceptions of life and death\n",
    "\n",
    "how can human beings be a resource for the natural world?\n",
    "* humus \"soil\" related to the word human\n",
    "\n",
    "zoen vs bios greek words\n",
    "\n",
    "we learn about death through other people\n",
    "\n",
    "* Siduri: non reciprocity\n",
    "* Utnapishtim: mutual balance\n",
    "* snake: transformative power\n",
    "\n",
    "mutuality to touch\n",
    "\n",
    "Gilgamesh is like a father figure\n",
    "\n",
    "* Gilgamesh deeply consumptive\n",
    "* pillaging his own people along with the natural world\n",
    "* knowledge of the flood, has three secrets\n",
    "* Ishtar is at the center in his vision\n",
    "* Gilgamesh learns something after throwing out Ishtar\n",
    "* Gilgamesh's motives and converns\n",
    "  * desire for immortality through fame\n",
    "  * support of artifacts and traditions of remembrance\n",
    "  * destroys the demon guarding the ceder forest\n",
    "\n",
    "Gilgamesh rejects Ishtar\n",
    "* principle of dependence\n",
    "* principle of imperfect fit\n",
    "* principle of mutual balance\n",
    "* principle of transformation\n",
    "\n",
    "reasons that Gilgamesh rejects Ishtar addressed in second half? reconciliation with Ishtar\n",
    "\n",
    "wisdom journey, goes to the core of who we are, the symbol of the mountain\n",
    "\n",
    "* Gilgamesh embodies urban life\n",
    "* Enkidu embodes plains people\n",
    "* Huwawa embodies forest people\n",
    "* Siduri embodies some form of life that is totally reconciled with this form of dependence, natural cycles: accepting, joyful of finitudes of life\n",
    "\n",
    "children are the natural way to immortality\n",
    "\n",
    "* approaching the long boat poles from a certain cultural point of view, that of a river people\n",
    "* waters of death: no mortals have passed it\n",
    "* mythic tradition that of a body of water that separates the living/mortal from the afterlfe\n",
    "* Greek tradition: the river lethe, the river of forgetfulness\n",
    "* the water of death may be uninhabitable\n",
    "* the water surrounding him killed everyone\n",
    "\n",
    "harness, be vulnerable to the elements\n",
    "* evolution and adaptation\n",
    "* stripping naked shows he has become vulnerable\n",
    "* life after life, the dead animal skin keeping Gilgamesh alive\n",
    "* wind is categorically different than using your own strength"
   ]
  }
 ],
 "metadata": {
  "kernelspec": {
   "display_name": "Python 3",
   "language": "python",
   "name": "python3"
  },
  "language_info": {
   "name": "python",
   "version": "3.10.10"
  },
  "orig_nbformat": 4,
  "vscode": {
   "interpreter": {
    "hash": "b0fa6594d8f4cbf19f97940f81e996739fb7646882a419484c72d19e05852a7e"
   }
  }
 },
 "nbformat": 4,
 "nbformat_minor": 2
}
