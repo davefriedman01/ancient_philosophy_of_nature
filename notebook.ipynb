{
 "cells": [
  {
   "attachments": {},
   "cell_type": "markdown",
   "metadata": {},
   "source": [
    "# Ancient Philosophy of Nature"
   ]
  },
  {
   "attachments": {},
   "cell_type": "markdown",
   "metadata": {},
   "source": [
    "---"
   ]
  },
  {
   "attachments": {},
   "cell_type": "markdown",
   "metadata": {},
   "source": [
    "* [[W](https://en.wikipedia.org/wiki/Arrow_of_time)] Arrow of Time\n",
    "* [[W](https://en.wikipedia.org/wiki/Action_at_a_distance)] Action at a distance\n",
    "* [[W](https://en.wikipedia.org/wiki/Cauchy_problem)] Cauchy Problem\n",
    "* [[W](https://en.wikipedia.org/wiki/Causality_(physics))] Cause, physics\n",
    "* [[W](https://en.wikipedia.org/wiki/Classical_mechanics)] Classical Mechanics\n",
    "* [[W](https://en.wikipedia.org/wiki/Collision)] Collision\n",
    "* [[W](https://en.wikipedia.org/wiki/Determinism)] Determinism\n",
    "* [[W](https://en.wikipedia.org/wiki/History_of_gravitational_theory)] Gravitation, history\n",
    "* [[W](https://en.wikipedia.org/wiki/Hamiltonian_mechanics)] Hamiltonian Mechanics\n",
    "* [[W](https://en.wikipedia.org/wiki/Hypotheses_non_fingo)] Hypotheses non fingo\n",
    "* [[W](https://en.wikipedia.org/wiki/Lagrangian_mechanics)] Lagrangian Mechanics\n",
    "* [[W](https://en.wikipedia.org/wiki/Laplace%27s_demon)] Laplace's Demon\n",
    "* [[W](https://en.wikipedia.org/wiki/Momentum)] Momentum\n",
    "* [[W](https://en.wikipedia.org/wiki/Motion)] Motion\n",
    "* [[W](https://en.wikipedia.org/wiki/Newton%27s_laws_of_motion)] Newton's Laws of Motion\n",
    "* [[W](https://en.wikipedia.org/wiki/Noether%27s_theorem)] Noether's Theorem\n",
    "* [[SEP](https://plato.stanford.edu/entries/process-philosophy/)] Process Philosophy\n",
    "* [[W](https://en.wikipedia.org/wiki/Stationary-action_principle)] Stationary-Action Principle"
   ]
  },
  {
   "attachments": {},
   "cell_type": "markdown",
   "metadata": {},
   "source": [
    "---"
   ]
  },
  {
   "attachments": {},
   "cell_type": "markdown",
   "metadata": {},
   "source": [
    "## Greek Mathematics"
   ]
  },
  {
   "cell_type": "markdown",
   "metadata": {},
   "source": [
    "* Archimedes\n",
    "* Euclid\n",
    "* [SEP][[W](https://en.wikipedia.org/wiki/Eudoxus_of_Cnidus)] Eudoxus of Cnidus\n",
    "* Pythagoras"
   ]
  },
  {
   "attachments": {},
   "cell_type": "markdown",
   "metadata": {},
   "source": [
    "---"
   ]
  },
  {
   "attachments": {},
   "cell_type": "markdown",
   "metadata": {},
   "source": [
    "[[SEP](https://plato.stanford.edu/entries/presocratics/)][W] Pre Socratic\n",
    "* [[SEP](https://plato.stanford.edu/entries/anaxagoras/)][[W](https://en.wikipedia.org/wiki/Anaxagoras)] Anaxagoras of Clazomenae\n",
    "* [SEP][[W](https://en.wikipedia.org/wiki/Anaximander)] Anaximander of Miletus\n",
    "* [SEP][[W](https://en.wikipedia.org/wiki/Anaximenes_of_Miletus)] Anaximenes of Miletus\n",
    "* [[SEP](https://plato.stanford.edu/entries/democritus/)][[W](https://en.wikipedia.org/wiki/Democritus)] Democritus\n",
    "* [[SEP](https://plato.stanford.edu/entries/empedocles/)][[W](https://en.wikipedia.org/wiki/Empedocles)] Empedocles of Akragas\n",
    "* [[SEP](https://plato.stanford.edu/entries/heraclitus/)][[W](https://en.wikipedia.org/wiki/Heraclitus)] Heraclitus of Ephesus\n",
    "* [[SEP](https://plato.stanford.edu/entries/parmenides/)][[W](https://en.wikipedia.org/wiki/Parmenides)] Parmenides of Elea\n",
    "* [[SEP](https://plato.stanford.edu/entries/pythagoras/)][[W](https://en.wikipedia.org/wiki/Pythagoras)] Pythagoras of Samos\n",
    "* [SEP][[W](https://en.wikipedia.org/wiki/Thales_of_Miletus)] Thales of Miletus\n",
    "* [[SEP](https://plato.stanford.edu/entries/xenophanes/)][[W](https://en.wikipedia.org/wiki/Xenophanes)] Xenophanes of Colophon"
   ]
  },
  {
   "attachments": {},
   "cell_type": "markdown",
   "metadata": {},
   "source": [
    "## Notions"
   ]
  },
  {
   "attachments": {},
   "cell_type": "markdown",
   "metadata": {},
   "source": [
    "* [SEP][[W]()] Aitia αιτια [cause, reason, ground, motive]\n",
    "* [SEP][[W](https://en.wikipedia.org/wiki/Aletheia)] Aletheia αληθεια [truth; unconcealedness; disclosure]\n",
    "* [SEP][[W](https://en.wikipedia.org/wiki/Apeiron)] Apeiron απειρον [indefiniteness, infinity, unboundedness]\n",
    "* [SEP][[W](https://en.wikipedia.org/wiki/Arche)] Arche αρχη [principle]\n",
    "* [SEP][[W](https://en.wikipedia.org/wiki/Arete)] Arete αρετη [excellence; virtue]\n",
    "* [SEP][W] Atom ατομον, ατομοσ [uncuttable; indivisible]\n",
    "* [SEP][[W](https://en.wikipedia.org/wiki/Chronos)] Chronos χρονος [chronological, sequential time]\n",
    "* [SEP][[W](https://en.wikipedia.org/wiki/Doxa)] Doxa δοξα [opinion; appearance] < δοκειν [to appear to be; to seem]\n",
    "* [SEP][[W](https://en.wikipedia.org/wiki/Energy)] Energy ενεργεια [activity]\n",
    "* [SEP][[W](https://en.wikipedia.org/wiki/Episteme)] Episteme επιστημη [scientific knowledge]\n",
    "* [SEP][[W](https://en.wikipedia.org/wiki/Ethos)] Ethos ηθος [character; custom; habit]\n",
    "* [SEP][[W](https://en.wikipedia.org/wiki/Eudaimonia)] Eudaimonia eυδαιμονια [living well; happiness]\n",
    "* [SEP][[W](https://en.wikipedia.org/wiki/Eunoia)] Eunoia ευνοια [good will; well mind; beautiful thinking]\n",
    "* [SEP][[W](https://en.wikipedia.org/wiki/Kairos)] Kairos καιρος [right, critical, opportune moment]\n",
    "* [SEP][[W](https://en.wikipedia.org/wiki/Logos)] Logos λογος [ratio/proportion, language, reason, rule, law]\n",
    "* [SEP][W] Metabole μεταβολη [change; alteration]\n",
    "* [SEP][[W](https://en.wikipedia.org/wiki/Metanoia_(theology))] Metanoia μετανοια\n",
    "* [SEP][[W](https://en.wikipedia.org/wiki/Nous)] Nous νους [mind; thought; understanding; intellect; intelligence]\n",
    "* [SEP][[W](https://en.wikipedia.org/wiki/Ousia)] Ousia ουσια [substance; essence; being]\n",
    "* [SEP][[W](https://en.wikipedia.org/wiki/Phronesis)] Phronesis φρονησις [prudence; practical wisdom; good judgment; mindfulness]\n",
    "* [SEP][[W](https://en.wikipedia.org/wiki/Physis)] Physis φυσις [nature]\n",
    "* [SEP][[W](https://en.wikipedia.org/wiki/Psyche_(psychology))] Psyche ψυχη [soul; spirit; life]\n",
    "* [SEP][[W](https://en.wikipedia.org/wiki/Sophia_(wisdom))] Sophia σοφια [wisdom]\n",
    "* [SEP][[W]()] Stoicheia στοιχεια [element]\n",
    "* [SEP][[W](https://en.wikipedia.org/wiki/Techne)] Techne τεχνη [craft; art]\n",
    "* [SEP][[W](https://en.wikipedia.org/wiki/Unmoved_mover)] ὃ οὐ κινούμενον κινεῖ [unmoved mover; that which moves without being moved]"
   ]
  },
  {
   "attachments": {},
   "cell_type": "markdown",
   "metadata": {},
   "source": [
    "---"
   ]
  },
  {
   "attachments": {},
   "cell_type": "markdown",
   "metadata": {},
   "source": [
    "* [SEP][[W](https://en.wikipedia.org/wiki/Aletheia)] Aletheia αληθεια (truth; unconcealedness; disclosure)\n",
    "* [SEP][[W](https://en.wikipedia.org/wiki/Anaxagoras)] Anaxagoras of Clazomenae\n",
    "* [SEP][[W](https://en.wikipedia.org/wiki/Anaximander)] Anaximander of Miletus\n",
    "* [SEP][[W](https://en.wikipedia.org/wiki/Anaximenes_of_Miletus)] Anaximenes of Miletus\n",
    "* [SEP][[W](https://en.wikipedia.org/wiki/Ancient_Greek_philosophy)] Ancient Greek Philosophy\n",
    "* [[SEP](https://plato.stanford.edu/entries/skepticism-ancient/)][W] Ancient Skepticism\n",
    "* [SEP][[W](https://en.wikipedia.org/wiki/Arche)] Arche αρχη (first principle; origin; source\n",
    "* [SEP][[W](https://en.wikipedia.org/wiki/Archelaus_(philosopher))] Archelaus\n",
    "* [SEP][[W](https://en.wikipedia.org/wiki/Arete)] Arete αρετη (excellence; virtue)\n",
    "* [[SEP](https://plato.stanford.edu/entries/aristotle/)][[W](https://en.wikipedia.org/wiki/Aristotle)] Aristotle\n",
    "* [[SEP](https://plato.stanford.edu/entries/aristotle-natphil/)][W] Aristotle's Philosophy of Nature\n",
    "* [SEP][[W](https://en.wikipedia.org/wiki/Atom)] Atom\n",
    "* [SEP][[W](https://en.wikipedia.org/wiki/Atomism)] Atomism\n",
    "* [[SEP](https://plato.stanford.edu/entries/atomism-modern/)][W] Atomism, 17th-20th centuries\n",
    "* [[SEP](https://plato.stanford.edu/entries/atomism-ancient/)][W] Atomism, Ancient\n",
    "* [SEP][W] Atom ατομον, ατομοσ (uncuttable; indivisible)\n",
    "* [SEP][[W](https://en.wikipedia.org/wiki/Gaston_Bachelard)] Bachelard, Gaston\n",
    "* [[SEP](https://plato.stanford.edu/entries/collingwood/)][[W](https://en.wikipedia.org/wiki/R._G._Collingwood)] Collingwood, Robin George (1889-1943)\n",
    "* [SEP][[W](https://en.wikipedia.org/wiki/Creation_myth)] Cosmogonic/Creation Myth\n",
    "* [SEP][[W](https://en.wikipedia.org/wiki/Flood_myth)] Deluge/Flood Myth\n",
    "* [[SEP](https://plato.stanford.edu/entries/democritus/)][[W](https://en.wikipedia.org/wiki/Democritus)] Democritus\n",
    "* [SEP][[W](https://en.wikipedia.org/wiki/Dialectic)] Dialectic\n",
    "* [SEP][[W](https://en.wikipedia.org/wiki/Diels%E2%80%93Kranz_numbering)] Diels-Kranz Numbering\n",
    "* [SEP][[W](https://en.wikipedia.org/wiki/Diogenes_Laertius)] Diogenes Laertius\n",
    "* [SEP][[W](https://en.wikipedia.org/wiki/Doxa)] Doxa δοξα < δοκειν (to appear to be; to seem)\n",
    "* [SEP][[W](https://en.wikipedia.org/wiki/Eleatics)] Eleatics\n",
    "* [SEP][[W](https://en.wikipedia.org/wiki/Classical_element)] Elements, Classical\n",
    "* [SEP][W] Emergentism\n",
    "* [SEP][[W](https://en.wikipedia.org/wiki/Empedocles)] Empedocles of Akragas\n",
    "* [SEP][[W](https://en.wikipedia.org/wiki/Endurantism)] Endurantism\n",
    "* [SEP][[W](https://en.wikipedia.org/wiki/Energy)] Energy ενεργεια (activity)\n",
    "* [SEP][[W](https://en.wikipedia.org/wiki/Epic_of_Gilgamesh)] Epic of Gilgamesh\n",
    "* [[SEP](https://plato.stanford.edu/entries/epicurus/)][W] Epicurus\n",
    "* [SEP][[W](https://en.wikipedia.org/wiki/Episteme)] Episteme επιστημη (scientific knowledge)\n",
    "* [SEP][[W](https://en.wikipedia.org/wiki/Ethos)] Ethos ηθος (character; custom; habit)\n",
    "* [SEP][[W](https://en.wikipedia.org/wiki/Eudaimonia)] Eudaimonia eυδαιμονια (living well; happiness)\n",
    "* [SEP][[W](https://en.wikipedia.org/wiki/Eunoia)] Eunoia ευνοια (good will; well mind; beautiful thinking)\n",
    "* [SEP][[W](https://en.wikipedia.org/wiki/Gilgamesh_flood_myth)] Gilgamesh Flood Myth\n",
    "* [SEP][[W](https://en.wikipedia.org/wiki/Heraclitus)] Heraclitus of Ephesus\n",
    "* [SEP][[W](https://en.wikipedia.org/wiki/Hylomorphism)] Hylomorphism\n",
    "* [SEP][[W](https://en.wikipedia.org/wiki/Hylozoism)] Hylozoism\n",
    "* [SEP][[W](https://en.wikipedia.org/wiki/Ionian_School_(philosophy))] Ionian School\n",
    "* [SEP][[W](https://en.wikipedia.org/wiki/Leucippus)] Leucippus\n",
    "* [SEP][[W](https://en.wikipedia.org/wiki/Logos)] Logos λογος\n",
    "* [[SEP](https://plato.stanford.edu/entries/lucretius/)][W] Lucretius\n",
    "* [SEP][[W](https://en.wikipedia.org/wiki/Materialism)] Materialism\n",
    "* [SEP][[W](https://en.wikipedia.org/wiki/Matter)] Matter\n",
    "* [SEP][[W](https://en.wikipedia.org/wiki/Melissus_of_Samos)] Melissus of Samos\n",
    "* [[SEP](https://plato.stanford.edu/entries/mereology)][[W](https://en.wikipedia.org/wiki/Mereology)] Mereology\n",
    "* [SEP][[W](https://en.wikipedia.org/wiki/Metaphysics)] Metaphysics\n",
    "* [SEP][[W](https://en.wikipedia.org/wiki/Metempsychosis)] Metempsychosis μετεμψυχωσις\n",
    "* [SEP][[W](https://en.wikipedia.org/wiki/Monism)] Monism\n",
    "* [SEP][[W](https://en.wikipedia.org/wiki/Naturalism_(philosophy))] Naturalism\n",
    "* [SEP][[W](https://en.wikipedia.org/wiki/Nature)] Nature\n",
    "* [SEP][[W](https://en.wikipedia.org/wiki/Nous)] Nous νους (mind; thought; understanding; intellect; intelligence)\n",
    "* [SEP][[W](https://en.wikipedia.org/wiki/Ousia)] Ousia ουσια (substance; essence; being)\n",
    "* [SEP][[W](https://en.wikipedia.org/wiki/Parmenides)] Parmenides of Elea\n",
    "* [SEP][[W](https://en.wikipedia.org/wiki/Philolaus)] Philolaus\n",
    "* [SEP][W] Philosophy of Meaning\n",
    "* [SEP][[W](https://en.wikipedia.org/wiki/Natural_philosophy)] Philosophy of Nature\n",
    "* [SEP][[W](https://en.wikipedia.org/wiki/Philosophy_of_space_and_time)] Philosophy of Time\n",
    "* [SEP][[W](https://en.wikipedia.org/wiki/Phronesis)] Phronesis φρονησις (prudence; practical wisdom; good judgment; mindfulness)\n",
    "* [SEP][[W](https://en.wikipedia.org/wiki/Physis)] Physis φυσις (nature)\n",
    "* [[SEP](https://plato.stanford.edu/entries/plato/)][[W](https://en.wikipedia.org/wiki/Plato)] Plato\n",
    "* [[SEP](https://plato.stanford.edu/entries/presocratics/)][[W](https://en.wikipedia.org/wiki/Pre-Socratic_philosophy)] Pre Socratic Philosophy\n",
    "* [SEP][[W](https://en.wikipedia.org/wiki/Psyche_(psychology))] Psyche ψυχη (soul; spirit; life)\n",
    "* [[SEP](https://plato.stanford.edu/entries/pythagoras/)][[W](https://en.wikipedia.org/wiki/Pythagoras)] Pythagoras of Samos\n",
    "* [SEP][W] Reductionism\n",
    "* [SEP][[W](https://en.wikipedia.org/wiki/Seven_Sages_of_Greece)] Seven Sages of Greece\n",
    "* [SEP][[W](https://en.wikipedia.org/wiki/Socrates)] Socrates\n",
    "* [SEP][[W](https://en.wikipedia.org/wiki/Sophia_(wisdom))] Sophia σοφια (wisdom)\n",
    "* [SEP][[W](https://en.wikipedia.org/wiki/Substance_theory)] Substance-Attribute Theory\n",
    "* [SEP][[W](https://en.wikipedia.org/wiki/Substantial_form)] Substantial Form\n",
    "* [SEP][[W](https://en.wikipedia.org/wiki/Techne)] Techne τεχνη (craft; art)\n",
    "* [SEP][[W](https://en.wikipedia.org/wiki/Thales_of_Miletus)] Thales of Miletus\n",
    "* [SEP][[W](https://en.wikipedia.org/wiki/Thales%27s_theorem)] Thales' Theorem\n",
    "* [SEP][[W](https://en.wikipedia.org/wiki/Vacuum)] Vacuum\n",
    "* [SEP][[W](https://en.wikipedia.org/wiki/Wild_man)] Wild Man\n",
    "* [SEP][[W](https://en.wikipedia.org/wiki/Xenophanes)] Xenophanes of Colophon\n",
    "* [SEP][[W](https://en.wikipedia.org/wiki/Zeno_of_Elea)] Zeno of Elea\n",
    "* [[SEP](https://plato.stanford.edu/entries/paradox-zeno/)][W] Zeno, paradoxes"
   ]
  },
  {
   "attachments": {},
   "cell_type": "markdown",
   "metadata": {},
   "source": [
    "---"
   ]
  },
  {
   "attachments": {},
   "cell_type": "markdown",
   "metadata": {},
   "source": [
    "## Homer"
   ]
  },
  {
   "attachments": {},
   "cell_type": "markdown",
   "metadata": {},
   "source": [
    "* [[W](https://en.wikipedia.org/wiki/Achilles)] Achilles\n",
    "* [[W](https://en.wikipedia.org/wiki/Argonauts)] Argonauts\n",
    "* [[W](https://en.wikipedia.org/wiki/Attic_Greek)] Attic Greek\n",
    "* [[W](https://en.wikipedia.org/wiki/Dactylic_hexameter)] Dactylic Hexameter\n",
    "* [[W](https://en.wikipedia.org/wiki/Delphi)] Delphi\n",
    "* [[W](https://en.wikipedia.org/wiki/Derveni_papyrus)] Derveni Papyrus\n",
    "* [[W](https://en.wikipedia.org/wiki/Didacticism)] Didacticism\n",
    "* [[W](https://en.wikipedia.org/wiki/Dionysian_Mysteries)] Dionysian Mysteries\n",
    "* [[W](https://en.wikipedia.org/wiki/Epic_Cycle)] Epic Cycle\n",
    "* [[W](https://en.wikipedia.org/wiki/Golden_Fleece)] Golden Fleece\n",
    "* [[W](https://en.wikipedia.org/wiki/Koine_Greek)] Hellenistic/Koine Greek\n",
    "* [[W](https://en.wikipedia.org/wiki/Hesiod)] Hesiod\n",
    "* [[W](https://en.wikipedia.org/wiki/Homer)] Homer\n",
    "* [[W](https://en.wikipedia.org/wiki/Homeric_Greek)] Homeric Greek\n",
    "* [[W](https://en.wikipedia.org/wiki/Homeric_Hymns)] Homeric Hymns\n",
    "* [[W](https://en.wikipedia.org/wiki/Iliad)] Iliad\n",
    "* [[W](https://en.wikipedia.org/wiki/Ionic_Greek)] Ionic Greek\n",
    "* [[W](https://en.wikipedia.org/wiki/Jason)] Jason\n",
    "* [[W](https://en.wikipedia.org/wiki/Muses)] Muses\n",
    "* [[W](https://en.wikipedia.org/wiki/Musaeus_of_Athens)] Musaeus of Athens\n",
    "* [[W](https://en.wikipedia.org/wiki/Greco-Roman_mysteries)] Mysteries\n",
    "* [[W](https://en.wikipedia.org/wiki/Odyssey)] Odyssey\n",
    "* [[W](https://en.wikipedia.org/wiki/Pythia)] Oracle of Delphi\n",
    "* [[W](https://en.wikipedia.org/wiki/Orpheus)] Orpheus\n",
    "* [[W](https://en.wikipedia.org/wiki/Orphism_(religion))] Orphism\n",
    "* [W] Priam\n",
    "* [[W](https://en.wikipedia.org/wiki/Pythagoreanism)] Pythagoreanism\n",
    "* [[W](https://en.wikipedia.org/wiki/Pythia)] Pythia\n",
    "* [[W](https://en.wikipedia.org/wiki/Rhapsode)] Rhapsode\n",
    "* [[W](https://en.wikipedia.org/wiki/Theogony)] Theogony\n",
    "* [[W](https://en.wikipedia.org/wiki/Totenpass)] Totenpass\n",
    "* [[W](https://en.wikipedia.org/wiki/Works_and_Days)] Works and Days"
   ]
  },
  {
   "attachments": {},
   "cell_type": "markdown",
   "metadata": {},
   "source": [
    "Greek deities\n",
    "* [[W](https://en.wikipedia.org/wiki/Caerus)] Caerus καιρος (Occasio,Tempus)\n",
    "* [[W](https://en.wikipedia.org/wiki/Cronus)] Cronus χρονος (Saturn)\n",
    "* [[W](https://en.wikipedia.org/wiki/Dionysus)] Dionysus Διονυσος (Bacchus)\n",
    "* [[W](https://en.wikipedia.org/wiki/Helios)] Helios\n",
    "* [[W](https://en.wikipedia.org/wiki/Persephone)] Persephone"
   ]
  },
  {
   "attachments": {},
   "cell_type": "markdown",
   "metadata": {},
   "source": [
    "---"
   ]
  },
  {
   "attachments": {},
   "cell_type": "markdown",
   "metadata": {},
   "source": [
    "## The Epic of Gilgamesh"
   ]
  },
  {
   "attachments": {},
   "cell_type": "markdown",
   "metadata": {},
   "source": [
    "* [[W](https://en.wikipedia.org/wiki/Anu)] Anu\n",
    "* [[W](https://en.wikipedia.org/wiki/Bull_of_Heaven)] Bull of Heaven\n",
    "* [[W](https://en.wikipedia.org/wiki/Cedar_Forest)] Cedar Forest\n",
    "* [[W](https://en.wikipedia.org/wiki/Enkidu)] Enkidu\n",
    "* [W] Enki\n",
    "* [[W](https://en.wikipedia.org/wiki/Enlil)] Enlil\n",
    "* [[W](https://en.wikipedia.org/wiki/Gilgamesh)] Gilgamesh\n",
    "* [[W](https://en.wikipedia.org/wiki/Humbaba)] Huwawa\n",
    "* [[W](https://en.wikipedia.org/wiki/Inanna)] Inanna/Ishtar\n",
    "* [[W](https://en.wikipedia.org/wiki/Queen_of_Heaven_(antiquity))] Queen of Heaven\n",
    "* [[W](https://en.wikipedia.org/wiki/Utu)] Shamash/Utu\n",
    "* [[W](https://en.wikipedia.org/wiki/Shamhat)] Shamhat\n",
    "* [[W](https://en.wikipedia.org/wiki/Siduri)] Siduri\n",
    "* [[W](https://en.wikipedia.org/wiki/S%C3%AEn-l%C4%93qi-unninni)] Sin-leqi-unninni\n",
    "* [[W](https://en.wikipedia.org/wiki/Utnapishtim)] Utnapishtim"
   ]
  },
  {
   "attachments": {},
   "cell_type": "markdown",
   "metadata": {},
   "source": [
    "---"
   ]
  },
  {
   "attachments": {},
   "cell_type": "markdown",
   "metadata": {},
   "source": [
    "## Publishers"
   ]
  },
  {
   "cell_type": "markdown",
   "metadata": {},
   "source": [
    "* Focus Philosophical Library\n",
    "* Hackett\n",
    "* Loeb Classical Library\n",
    "* Phoenix Presocratic Series"
   ]
  },
  {
   "attachments": {},
   "cell_type": "markdown",
   "metadata": {},
   "source": [
    "---"
   ]
  }
 ],
 "metadata": {
  "kernelspec": {
   "display_name": "Python 3",
   "language": "python",
   "name": "python3"
  },
  "language_info": {
   "name": "python",
   "version": "3.10.10"
  },
  "orig_nbformat": 4,
  "vscode": {
   "interpreter": {
    "hash": "b0fa6594d8f4cbf19f97940f81e996739fb7646882a419484c72d19e05852a7e"
   }
  }
 },
 "nbformat": 4,
 "nbformat_minor": 2
}
